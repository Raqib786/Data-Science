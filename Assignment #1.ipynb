{
 "cells": [
  {
   "cell_type": "code",
   "execution_count": 1,
   "id": "c12d8265",
   "metadata": {},
   "outputs": [
    {
     "name": "stdout",
     "output_type": "stream",
     "text": [
      "\tTwinkle, twinkle, little star,\n",
      "\n",
      "\t\tHow I wonder what you are!\n",
      "\n",
      "\t\t\tUp above the world so high,\n",
      "\n",
      "\t\t\tLike a diamond in the sky.\n",
      "\n",
      "\tTwinkle, twinkle, little star,\n",
      "\n",
      "\t\tHow I wonder what you are!\n",
      "\n"
     ]
    }
   ],
   "source": [
    "\"\"\"\"Write a Python program to print the following string in a specific format (see the\n",
    "output).\n",
    "\n",
    "Twinkle, twinkle, little star,\n",
    "How I wonder what you are!\n",
    "Up above the world so high,\n",
    "Like a diamond in the sky.\n",
    "\n",
    "Twinkle, twinkle, little star,\n",
    "How I wonder what you are \"\"\"\n",
    "\n",
    "print(\"\\tTwinkle, twinkle, little star,\\n\")\n",
    "print(\"\\t\\tHow I wonder what you are!\\n\")\n",
    "print(\"\\t\\t\\tUp above the world so high,\\n\")\n",
    "print(\"\\t\\t\\tLike a diamond in the sky.\\n\")\n",
    "print(\"\\tTwinkle, twinkle, little star,\\n\")\n",
    "print(\"\\t\\tHow I wonder what you are!\\n\")"
   ]
  },
  {
   "cell_type": "code",
   "execution_count": 2,
   "id": "d3743e16",
   "metadata": {},
   "outputs": [
    {
     "name": "stdout",
     "output_type": "stream",
     "text": [
      "3.8.8 (default, Apr 13 2021, 15:08:03) [MSC v.1916 64 bit (AMD64)]\n"
     ]
    }
   ],
   "source": [
    "# Write a Python program to get the Python version you are using\n",
    "\n",
    "import sys\n",
    "print(sys.version)"
   ]
  },
  {
   "cell_type": "code",
   "execution_count": 3,
   "id": "9fc118eb",
   "metadata": {},
   "outputs": [
    {
     "name": "stdout",
     "output_type": "stream",
     "text": [
      "2021-12-28 21:18:01.573960\n"
     ]
    }
   ],
   "source": [
    "# Write a Python program to display the current date and time.\n",
    "\n",
    "import datetime\n",
    "x = datetime.datetime.now()\n",
    "print(x)"
   ]
  },
  {
   "cell_type": "code",
   "execution_count": 4,
   "id": "51c5912b",
   "metadata": {},
   "outputs": [
    {
     "name": "stdout",
     "output_type": "stream",
     "text": [
      "Input the radius of the circle : 2\n",
      "The area of the circle with radius 2.0 is: 12.5664\n"
     ]
    }
   ],
   "source": [
    "\"\"\" Write a Python program which accepts the radius of a circle from the user and compute\n",
    "the area.\"\"\"\n",
    "\n",
    "pi = 3.1416\n",
    "rad = float(input (\"Input the radius of the circle : \"))\n",
    "print (\"The area of the circle with radius \" + str(rad) + \" is: \" + str(pi * rad**2))\n"
   ]
  },
  {
   "cell_type": "code",
   "execution_count": 5,
   "id": "ba23ac37",
   "metadata": {},
   "outputs": [
    {
     "name": "stdout",
     "output_type": "stream",
     "text": [
      "Enter your first name : Asad\n",
      "Enter your last name : Aleem\n",
      "\tYour Full Name is : Aleem Asad\n"
     ]
    }
   ],
   "source": [
    "\"\"\"Write a Python program which accepts the user's first and last name and print them in\n",
    "reverse order with a space between them.\"\"\"\n",
    "\n",
    "f_name = input(\"Enter your first name : \")\n",
    "l_name = input(\"Enter your last name : \")\n",
    "full_name = print(\"\\tYour Full Name is : \" + l_name + \" \" +f_name)"
   ]
  },
  {
   "cell_type": "code",
   "execution_count": 6,
   "id": "4bce3256",
   "metadata": {},
   "outputs": [
    {
     "name": "stdout",
     "output_type": "stream",
     "text": [
      "Enter your Number 1 for addition : 12\n",
      "Enter your Number 2 for addition : 12\n",
      "24\n"
     ]
    }
   ],
   "source": [
    "# Write a python program which takes two inputs from user and print them addition\n",
    "num1 = int(input(\"Enter your Number 1 for addition : \"))\n",
    "num2 = int(input(\"Enter your Number 2 for addition : \"))\n",
    "add = num1 + num2\n",
    "type(add)\n",
    "print(add)"
   ]
  },
  {
   "cell_type": "code",
   "execution_count": null,
   "id": "0fb1772a",
   "metadata": {},
   "outputs": [],
   "source": []
  }
 ],
 "metadata": {
  "kernelspec": {
   "display_name": "Python 3",
   "language": "python",
   "name": "python3"
  },
  "language_info": {
   "codemirror_mode": {
    "name": "ipython",
    "version": 3
   },
   "file_extension": ".py",
   "mimetype": "text/x-python",
   "name": "python",
   "nbconvert_exporter": "python",
   "pygments_lexer": "ipython3",
   "version": "3.8.8"
  }
 },
 "nbformat": 4,
 "nbformat_minor": 5
}
